{
 "cells": [
  {
   "cell_type": "code",
   "execution_count": 12,
   "metadata": {},
   "outputs": [
    {
     "name": "stdout",
     "output_type": "stream",
     "text": [
      "Digite a quantidade de rodadas\n",
      "1000\n",
      "digite a taxa de aprendizado\n",
      "0.05\n",
      "digite a quantidade de neuronios na camada oculta\n",
      "9\n",
      "digite a proporcao do treino\n",
      "0.8\n",
      "\n",
      "\n",
      "\n"
     ]
    },
    {
     "data": {
      "image/png": "[encoded data removed]",
      "text/plain": [
       "<Figure size 432x288 with 1 Axes>"
      ]
     },
     "metadata": {
      "needs_background": "light"
     },
     "output_type": "display_data"
    }
   ],
   "source": [
    "import pandas as pd;\n",
    "import random;\n",
    "import math;\n",
    "import matplotlib.pyplot as plt;\n",
    "import numpy as np;\n",
    "%matplotlib inline\n",
    "arq=pd.read_csv(\"Iris dataset.dat\",sep=\"\\t\",header=None,skiprows=0);\n",
    "\n",
    "qtRodadas=int(input(\"Digite a quantidade de rodadas\\n\"));\n",
    "txAp=float(input(\"digite a taxa de aprendizado\\n\"));\n",
    "qtNCamadaOculta=int(input(\"digite a quantidade de neuronios na camada oculta\\n\"));\n",
    "proptrain=float(input(\"digite a proporcao do treino\\n\"));\n",
    "taxaAcerto=[];\n",
    "\n",
    "matrizConf=np.array([[0]*3,[0]*3,[0]*3]);\n",
    "tamTeste=0;\n",
    "#normalizando\n",
    "#criando lista com nomes da colunas para poder fazer iteração para normalizar\n",
    "colunas=arq.columns[:4];\n",
    "\n",
    "for col in colunas:\n",
    "    menor=arq[col].min();\n",
    "    maior=arq[col].max();\n",
    "    arq[col]=arq[col].apply(lambda x:(x-menor)/(maior-menor));\n",
    "#fim normalização\n",
    "\n",
    "arq.insert(loc=0,column=\"X0\",value=-1);\n",
    "\n",
    "classes={}\n",
    "#criando o dicionario com as classes em forma de vetor\n",
    "\n",
    "for x in range(3):\n",
    "    classes[x+1]=[0]*x+[1]+[0]*(2-x);\n",
    "\n",
    "#print(arq[4].value_counts())\n",
    "#separando dataset por classe\n",
    "cl1=arq.loc[arq[4]==1]\n",
    "cl2=arq.loc[arq[4]==2]\n",
    "cl3=arq.loc[arq[4]==3]\n",
    "#classe para representar neuronios\n",
    "class Neuronio():\n",
    "    \n",
    "    def __init__(self,QPesos):\n",
    "        #gerando pesos aleatórios\n",
    "        self.pesos=[random.random() for a in range(QPesos)];\n",
    "    \n",
    "#função para calcular o produto escalar    \n",
    "def ProdutoEscalar(x, w, tam):\n",
    "    soma=0;\n",
    "    for a in range(tam):\n",
    "        soma+=x[a]*w[a];\n",
    "        \n",
    "    return soma;\n",
    "\n",
    "#função para gerar novos pesos\n",
    "def NovosPesos(pesos,erro,derivada,entrada):\n",
    "    novospesos=[];\n",
    "    tam=len(pesos);\n",
    "    for a in range(tam):\n",
    "        novospesos.append(pesos[a]+(txAp*erro*(derivada+0.05)*entrada[a]));\n",
    "                          \n",
    "    return novospesos;\n",
    "\n",
    "                          \n",
    "NeurOcult=[Neuronio(5) for a in range(qtNCamadaOculta)];\n",
    "NeurSaida=[Neuronio(qtNCamadaOculta+1) for a in range(3)];\n",
    "#trein=arq.values[1]\n",
    "\n",
    "#print([a.pesos for a in NeurOcult]);\n",
    "#print([a.pesos for a in NeurSaida]);\n",
    "#for para as n rodadas\n",
    "for rodadas in range(qtRodadas):\n",
    "    treinamento=((cl1.sample(frac=proptrain)).append(cl2.sample(frac=proptrain))).append(cl3.sample(frac=proptrain));\n",
    "    teste=((arq.drop(treinamento.index)).sample(frac=1)).values;\n",
    "    treinamento=(treinamento.sample(frac=1)).values;\n",
    "    tamTeste=len(teste);\n",
    "    #print(tamTeste)\n",
    "    # treinamento\n",
    "    Yk=[];\n",
    "    Ok=[];\n",
    "    errosRetro=[];\n",
    "    errosSaida=[];\n",
    "    \n",
    "    for trein in treinamento:\n",
    "        saidaOc=[-1];\n",
    "        for neuroOc in NeurOcult:\n",
    "            u=ProdutoEscalar(trein,neuroOc.pesos,5);\n",
    "            y=1/(1+math.exp(-u));\n",
    "            saidaOc.append(y);\n",
    "\n",
    "        saida=[];\n",
    "        Yk.append(saidaOc);\n",
    "        #print(saidaOc)\n",
    "        for nSaida in NeurSaida:\n",
    "            a=ProdutoEscalar(saidaOc,nSaida.pesos,qtNCamadaOculta+1);\n",
    "            o=1/(1+math.exp(-a));\n",
    "            saida.append(o);\n",
    "\n",
    "        erroRetro=[0]*qtNCamadaOculta;\n",
    "        Ok.append(saida);\n",
    "        erroS=[];\n",
    "        #aprendizado neuronios da camada de saida\n",
    "        for n in range(3):\n",
    "            #aprendizado\n",
    "            indice=(trein[5]);\n",
    "\n",
    "            errok=classes[indice][n]-saida[n];\n",
    "            erroS.append(errok);\n",
    "            deriv=saida[n]*(1-saida[n]);\n",
    "            #print(deriv);\n",
    "            for i in range(qtNCamadaOculta):\n",
    "                erroRetro[i]+=NeurSaida[n].pesos[i+1]*errok*deriv;\n",
    "\n",
    "            #NeurSaida[n].pesos=NovosPesos(NeurSaida[n].pesos,errok,deriv,saidaOc);#aqui\n",
    "            \n",
    "        errosRetro.append(erroRetro);\n",
    "        errosSaida.append(erroS);\n",
    "        #aprendizado neuronios camada oculta\n",
    "        #for n in range(qtNCamadaOculta):\n",
    "            #deriv=saidaOc[n+1]*(1-saidaOc[n+1]);\n",
    "            #NeurOcult[n].pesos=NovosPesos(NeurOcult[n].pesos,erroRetro[n],deriv,trein);#aqui\n",
    "    #fim fim treinamento\n",
    "    #aprendizado\n",
    "    for t in range(0,len(treinamento)):\n",
    "        #pesos neurônio de saída\n",
    "        for n in range(3):\n",
    "            deriv=(Ok[t][n])*(1-(Ok[t][n]));\n",
    "            \n",
    "            NeurSaida[n].pesos=NovosPesos(NeurSaida[n].pesos,(errosSaida[t])[n],deriv,Yk[t]);\n",
    "            \n",
    "        for n in range(qtNCamadaOculta):\n",
    "            deriv=(Yk[t][n+1])*(1-(Yk[t][n+1]));\n",
    "            NeurOcult[n].pesos=NovosPesos(NeurOcult[n].pesos,errosRetro[t][n],deriv,treinamento[t]);#aqui\n",
    "    #teste\n",
    "    acerto=0;\n",
    "    for test in teste:\n",
    "        saidaOcT=[-1];\n",
    "        for neuroOc in NeurOcult:\n",
    "            u=ProdutoEscalar(test,neuroOc.pesos,5);\n",
    "            y=1/(1+math.exp(-u));\n",
    "            saidaOcT.append(y);\n",
    "\n",
    "        saidaT=[];\n",
    "        #print(saidaOc)\n",
    "        for nSaida in NeurSaida:\n",
    "            a=ProdutoEscalar(saidaOcT,nSaida.pesos,qtNCamadaOculta+1);\n",
    "            o=1/(1+math.exp(-a));\n",
    "            saidaT.append(o);\n",
    "        \n",
    "        indiceSaida=saidaT.index(max(saidaT));\n",
    "        indiceDesejado=int(test[5]);\n",
    "        \n",
    "        saidaDesejada=classes[indiceDesejado];\n",
    "        matrizConf[indiceDesejado-1][indiceSaida]+=1;\n",
    "        if(saidaDesejada[indiceSaida]==1):\n",
    "            acerto+=1;\n",
    "        \n",
    "    taxaAcerto.append(acerto/tamTeste);\n",
    "\n",
    "print(\"\\n\\n\")\n",
    "#print([a.pesos for a in NeurOcult]);\n",
    "#print([a.pesos for a in NeurSaida]);\n",
    "plt.figure();\n",
    "plt.title(\"Gráfico da taxa de acerto MLP\");\n",
    "plt.grid();\n",
    "plt.plot(list(range(qtRodadas)),taxaAcerto);\n",
    "\n",
    "plt.xlabel(\"Número de rodadas\");\n",
    "plt.ylabel(\"Taxa de acerto\");\n",
    "\n",
    "plt.show();"
   ]
  },
  {
   "cell_type": "code",
   "execution_count": 13,
   "metadata": {},
   "outputs": [
    {
     "name": "stdout",
     "output_type": "stream",
     "text": [
      "[[0.9931 0.     0.0069]\n",
      " [0.0046 0.8804 0.115 ]\n",
      " [0.001  0.0342 0.9648]]\n"
     ]
    },
    {
     "data": {
      "image/png": "[encoded data removed]",
      "text/plain": [
       "<Figure size 432x288 with 2 Axes>"
      ]
     },
     "metadata": {
      "needs_background": "light"
     },
     "output_type": "display_data"
    }
   ],
   "source": [
    "import seaborn as sns\n",
    "print(matrizConf/(tamTeste/3*qtRodadas))\n",
    "sns.heatmap((matrizConf/(tamTeste/3*qtRodadas)), annot=True)\n",
    "plt.show()\n"
   ]
  },
  {
   "cell_type": "code",
   "execution_count": 14,
   "metadata": {},
   "outputs": [
    {
     "name": "stdout",
     "output_type": "stream",
     "text": [
      "1.0\n"
     ]
    }
   ],
   "source": [
    "print(max(taxaAcerto))"
   ]
  },
  {
   "cell_type": "code",
   "execution_count": null,
   "metadata": {},
   "outputs": [],
   "source": []
  }
 ],
 "metadata": {
  "kernelspec": {
   "display_name": "Python 3",
   "language": "python",
   "name": "python3"
  },
  "language_info": {
   "codemirror_mode": {
    "name": "ipython",
    "version": 3
   },
   "file_extension": ".py",
   "mimetype": "text/x-python",
   "name": "python",
   "nbconvert_exporter": "python",
   "pygments_lexer": "ipython3",
   "version": "3.7.1"
  }
 },
 "nbformat": 4,
 "nbformat_minor": 2
}
